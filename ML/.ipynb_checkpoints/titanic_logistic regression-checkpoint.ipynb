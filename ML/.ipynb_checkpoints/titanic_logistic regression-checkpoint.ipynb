{
 "cells": [
  {
   "cell_type": "code",
   "execution_count": 1,
   "metadata": {},
   "outputs": [],
   "source": [
    "import pandas as pd\n",
    "import numpy as np\n",
    "\n",
    "import matplotlib\n",
    "import matplotlib.pyplot as plt\n",
    "from pandas.plotting import scatter_matrix\n",
    "%matplotlib inline\n",
    "\n",
    "import seaborn as sns\n",
    "sns.set(style=\"white\",color_codes=True)\n",
    "sns.set(font_scale=1.5)\n",
    "\n",
    "from sklearn.linear_model import LogisticRegression\n",
    "from sklearn.model_selection import train_test_split\n",
    "\n",
    "from sklearn.metrics import confusion_matrix\n",
    "from sklearn.metrics import classification_report\n",
    "from sklearn.metrics import accuracy_score\n",
    "from sklearn.metrics import precision_score\n",
    "from sklearn.metrics import recall_score\n",
    "from sklearn.metrics import f1_score\n",
    "from sklearn import metrics\n"
   ]
  },
  {
   "cell_type": "code",
   "execution_count": 2,
   "metadata": {},
   "outputs": [
    {
     "data": {
      "text/plain": [
       "(891, 12)"
      ]
     },
     "execution_count": 2,
     "metadata": {},
     "output_type": "execute_result"
    }
   ],
   "source": [
    "df_train = pd.read_csv(r'C:\\Users\\SRIJA\\Documents\\DS\\ml\\Demo Datasets\\Lesson 4\\train.csv')\n",
    "df_train.shape"
   ]
  },
  {
   "cell_type": "code",
   "execution_count": 3,
   "metadata": {},
   "outputs": [
    {
     "data": {
      "text/plain": [
       "0    549\n",
       "1    342\n",
       "Name: Survived, dtype: int64"
      ]
     },
     "execution_count": 3,
     "metadata": {},
     "output_type": "execute_result"
    }
   ],
   "source": [
    "df_train.Survived.value_counts()"
   ]
  },
  {
   "cell_type": "code",
   "execution_count": 4,
   "metadata": {},
   "outputs": [
    {
     "data": {
      "text/plain": [
       "male      577\n",
       "female    314\n",
       "Name: Sex, dtype: int64"
      ]
     },
     "execution_count": 4,
     "metadata": {},
     "output_type": "execute_result"
    }
   ],
   "source": [
    "df_train.Sex.value_counts()"
   ]
  },
  {
   "cell_type": "code",
   "execution_count": 5,
   "metadata": {},
   "outputs": [
    {
     "data": {
      "text/plain": [
       "S    644\n",
       "C    168\n",
       "Q     77\n",
       "Name: Embarked, dtype: int64"
      ]
     },
     "execution_count": 5,
     "metadata": {},
     "output_type": "execute_result"
    }
   ],
   "source": [
    "df_train.Embarked.value_counts()"
   ]
  },
  {
   "cell_type": "code",
   "execution_count": 6,
   "metadata": {},
   "outputs": [
    {
     "data": {
      "text/plain": [
       "PassengerId      0\n",
       "Survived         0\n",
       "Pclass           0\n",
       "Name             0\n",
       "Sex              0\n",
       "Age            177\n",
       "SibSp            0\n",
       "Parch            0\n",
       "Ticket           0\n",
       "Fare             0\n",
       "Cabin          687\n",
       "Embarked         2\n",
       "dtype: int64"
      ]
     },
     "execution_count": 6,
     "metadata": {},
     "output_type": "execute_result"
    }
   ],
   "source": [
    "df_train.isnull().sum()"
   ]
  },
  {
   "cell_type": "code",
   "execution_count": 9,
   "metadata": {},
   "outputs": [],
   "source": [
    "df_train = df_train.drop(['PassengerId','Name','Ticket','Cabin'],axis=1)"
   ]
  },
  {
   "cell_type": "code",
   "execution_count": 10,
   "metadata": {},
   "outputs": [
    {
     "data": {
      "text/html": [
       "<div>\n",
       "<style scoped>\n",
       "    .dataframe tbody tr th:only-of-type {\n",
       "        vertical-align: middle;\n",
       "    }\n",
       "\n",
       "    .dataframe tbody tr th {\n",
       "        vertical-align: top;\n",
       "    }\n",
       "\n",
       "    .dataframe thead th {\n",
       "        text-align: right;\n",
       "    }\n",
       "</style>\n",
       "<table border=\"1\" class=\"dataframe\">\n",
       "  <thead>\n",
       "    <tr style=\"text-align: right;\">\n",
       "      <th></th>\n",
       "      <th>Survived</th>\n",
       "      <th>Pclass</th>\n",
       "      <th>Sex</th>\n",
       "      <th>Age</th>\n",
       "      <th>SibSp</th>\n",
       "      <th>Parch</th>\n",
       "      <th>Fare</th>\n",
       "      <th>Embarked</th>\n",
       "    </tr>\n",
       "  </thead>\n",
       "  <tbody>\n",
       "    <tr>\n",
       "      <th>0</th>\n",
       "      <td>0</td>\n",
       "      <td>3</td>\n",
       "      <td>male</td>\n",
       "      <td>22.0</td>\n",
       "      <td>1</td>\n",
       "      <td>0</td>\n",
       "      <td>7.2500</td>\n",
       "      <td>S</td>\n",
       "    </tr>\n",
       "    <tr>\n",
       "      <th>1</th>\n",
       "      <td>1</td>\n",
       "      <td>1</td>\n",
       "      <td>female</td>\n",
       "      <td>38.0</td>\n",
       "      <td>1</td>\n",
       "      <td>0</td>\n",
       "      <td>71.2833</td>\n",
       "      <td>C</td>\n",
       "    </tr>\n",
       "    <tr>\n",
       "      <th>2</th>\n",
       "      <td>1</td>\n",
       "      <td>3</td>\n",
       "      <td>female</td>\n",
       "      <td>26.0</td>\n",
       "      <td>0</td>\n",
       "      <td>0</td>\n",
       "      <td>7.9250</td>\n",
       "      <td>S</td>\n",
       "    </tr>\n",
       "    <tr>\n",
       "      <th>3</th>\n",
       "      <td>1</td>\n",
       "      <td>1</td>\n",
       "      <td>female</td>\n",
       "      <td>35.0</td>\n",
       "      <td>1</td>\n",
       "      <td>0</td>\n",
       "      <td>53.1000</td>\n",
       "      <td>S</td>\n",
       "    </tr>\n",
       "    <tr>\n",
       "      <th>4</th>\n",
       "      <td>0</td>\n",
       "      <td>3</td>\n",
       "      <td>male</td>\n",
       "      <td>35.0</td>\n",
       "      <td>0</td>\n",
       "      <td>0</td>\n",
       "      <td>8.0500</td>\n",
       "      <td>S</td>\n",
       "    </tr>\n",
       "  </tbody>\n",
       "</table>\n",
       "</div>"
      ],
      "text/plain": [
       "   Survived  Pclass     Sex   Age  SibSp  Parch     Fare Embarked\n",
       "0         0       3    male  22.0      1      0   7.2500        S\n",
       "1         1       1  female  38.0      1      0  71.2833        C\n",
       "2         1       3  female  26.0      0      0   7.9250        S\n",
       "3         1       1  female  35.0      1      0  53.1000        S\n",
       "4         0       3    male  35.0      0      0   8.0500        S"
      ]
     },
     "execution_count": 10,
     "metadata": {},
     "output_type": "execute_result"
    }
   ],
   "source": [
    "df_train.head()"
   ]
  },
  {
   "cell_type": "code",
   "execution_count": 13,
   "metadata": {},
   "outputs": [],
   "source": [
    "def age_approx(cols):\n",
    "    Age = cols[0]\n",
    "    Pclass = cols[1]\n",
    "    \n",
    "    if pd.isnull(Age):\n",
    "        if Pclass == 1:\n",
    "            return 37\n",
    "        elif Pclass == 2:\n",
    "            return 29\n",
    "        else:\n",
    "            return 24\n",
    "    else:\n",
    "        return Age"
   ]
  },
  {
   "cell_type": "code",
   "execution_count": 14,
   "metadata": {},
   "outputs": [
    {
     "data": {
      "text/html": [
       "<div>\n",
       "<style scoped>\n",
       "    .dataframe tbody tr th:only-of-type {\n",
       "        vertical-align: middle;\n",
       "    }\n",
       "\n",
       "    .dataframe tbody tr th {\n",
       "        vertical-align: top;\n",
       "    }\n",
       "\n",
       "    .dataframe thead th {\n",
       "        text-align: right;\n",
       "    }\n",
       "</style>\n",
       "<table border=\"1\" class=\"dataframe\">\n",
       "  <thead>\n",
       "    <tr style=\"text-align: right;\">\n",
       "      <th></th>\n",
       "      <th>Survived</th>\n",
       "      <th>Age</th>\n",
       "      <th>SibSp</th>\n",
       "      <th>Parch</th>\n",
       "      <th>Fare</th>\n",
       "    </tr>\n",
       "    <tr>\n",
       "      <th>Pclass</th>\n",
       "      <th></th>\n",
       "      <th></th>\n",
       "      <th></th>\n",
       "      <th></th>\n",
       "      <th></th>\n",
       "    </tr>\n",
       "  </thead>\n",
       "  <tbody>\n",
       "    <tr>\n",
       "      <th>1</th>\n",
       "      <td>0.629630</td>\n",
       "      <td>38.233441</td>\n",
       "      <td>0.416667</td>\n",
       "      <td>0.356481</td>\n",
       "      <td>84.154687</td>\n",
       "    </tr>\n",
       "    <tr>\n",
       "      <th>2</th>\n",
       "      <td>0.472826</td>\n",
       "      <td>29.877630</td>\n",
       "      <td>0.402174</td>\n",
       "      <td>0.380435</td>\n",
       "      <td>20.662183</td>\n",
       "    </tr>\n",
       "    <tr>\n",
       "      <th>3</th>\n",
       "      <td>0.242363</td>\n",
       "      <td>25.140620</td>\n",
       "      <td>0.615071</td>\n",
       "      <td>0.393075</td>\n",
       "      <td>13.675550</td>\n",
       "    </tr>\n",
       "  </tbody>\n",
       "</table>\n",
       "</div>"
      ],
      "text/plain": [
       "        Survived        Age     SibSp     Parch       Fare\n",
       "Pclass                                                    \n",
       "1       0.629630  38.233441  0.416667  0.356481  84.154687\n",
       "2       0.472826  29.877630  0.402174  0.380435  20.662183\n",
       "3       0.242363  25.140620  0.615071  0.393075  13.675550"
      ]
     },
     "execution_count": 14,
     "metadata": {},
     "output_type": "execute_result"
    }
   ],
   "source": [
    "df_train.groupby(['Pclass']).mean() "
   ]
  },
  {
   "cell_type": "code",
   "execution_count": 15,
   "metadata": {},
   "outputs": [],
   "source": [
    "df_train['Age'] = df_train[['Age','Pclass']].apply(age_approx,axis=1)"
   ]
  },
  {
   "cell_type": "code",
   "execution_count": 16,
   "metadata": {},
   "outputs": [
    {
     "data": {
      "text/plain": [
       "Survived    0\n",
       "Pclass      0\n",
       "Sex         0\n",
       "Age         0\n",
       "SibSp       0\n",
       "Parch       0\n",
       "Fare        0\n",
       "Embarked    2\n",
       "dtype: int64"
      ]
     },
     "execution_count": 16,
     "metadata": {},
     "output_type": "execute_result"
    }
   ],
   "source": [
    "df_train.isnull().sum()"
   ]
  },
  {
   "cell_type": "code",
   "execution_count": 17,
   "metadata": {},
   "outputs": [],
   "source": [
    "df_train.dropna(inplace=True)"
   ]
  },
  {
   "cell_type": "code",
   "execution_count": 18,
   "metadata": {},
   "outputs": [
    {
     "data": {
      "text/plain": [
       "Survived    0\n",
       "Pclass      0\n",
       "Sex         0\n",
       "Age         0\n",
       "SibSp       0\n",
       "Parch       0\n",
       "Fare        0\n",
       "Embarked    0\n",
       "dtype: int64"
      ]
     },
     "execution_count": 18,
     "metadata": {},
     "output_type": "execute_result"
    }
   ],
   "source": [
    "df_train.isnull().sum()"
   ]
  },
  {
   "cell_type": "code",
   "execution_count": 19,
   "metadata": {},
   "outputs": [],
   "source": [
    "#convert categorical into numbers\n",
    "df_train_dummied = pd.get_dummies(df_train,columns=['Sex'])\n",
    "df_train_dummied = pd.get_dummies(df_train_dummied,columns=['Embarked'])"
   ]
  },
  {
   "cell_type": "code",
   "execution_count": 20,
   "metadata": {},
   "outputs": [
    {
     "data": {
      "text/html": [
       "<div>\n",
       "<style scoped>\n",
       "    .dataframe tbody tr th:only-of-type {\n",
       "        vertical-align: middle;\n",
       "    }\n",
       "\n",
       "    .dataframe tbody tr th {\n",
       "        vertical-align: top;\n",
       "    }\n",
       "\n",
       "    .dataframe thead th {\n",
       "        text-align: right;\n",
       "    }\n",
       "</style>\n",
       "<table border=\"1\" class=\"dataframe\">\n",
       "  <thead>\n",
       "    <tr style=\"text-align: right;\">\n",
       "      <th></th>\n",
       "      <th>Survived</th>\n",
       "      <th>Pclass</th>\n",
       "      <th>Age</th>\n",
       "      <th>SibSp</th>\n",
       "      <th>Parch</th>\n",
       "      <th>Fare</th>\n",
       "      <th>Sex_female</th>\n",
       "      <th>Sex_male</th>\n",
       "      <th>Embarked_C</th>\n",
       "      <th>Embarked_Q</th>\n",
       "      <th>Embarked_S</th>\n",
       "    </tr>\n",
       "  </thead>\n",
       "  <tbody>\n",
       "    <tr>\n",
       "      <th>0</th>\n",
       "      <td>0</td>\n",
       "      <td>3</td>\n",
       "      <td>22.0</td>\n",
       "      <td>1</td>\n",
       "      <td>0</td>\n",
       "      <td>7.2500</td>\n",
       "      <td>0</td>\n",
       "      <td>1</td>\n",
       "      <td>0</td>\n",
       "      <td>0</td>\n",
       "      <td>1</td>\n",
       "    </tr>\n",
       "    <tr>\n",
       "      <th>1</th>\n",
       "      <td>1</td>\n",
       "      <td>1</td>\n",
       "      <td>38.0</td>\n",
       "      <td>1</td>\n",
       "      <td>0</td>\n",
       "      <td>71.2833</td>\n",
       "      <td>1</td>\n",
       "      <td>0</td>\n",
       "      <td>1</td>\n",
       "      <td>0</td>\n",
       "      <td>0</td>\n",
       "    </tr>\n",
       "    <tr>\n",
       "      <th>2</th>\n",
       "      <td>1</td>\n",
       "      <td>3</td>\n",
       "      <td>26.0</td>\n",
       "      <td>0</td>\n",
       "      <td>0</td>\n",
       "      <td>7.9250</td>\n",
       "      <td>1</td>\n",
       "      <td>0</td>\n",
       "      <td>0</td>\n",
       "      <td>0</td>\n",
       "      <td>1</td>\n",
       "    </tr>\n",
       "    <tr>\n",
       "      <th>3</th>\n",
       "      <td>1</td>\n",
       "      <td>1</td>\n",
       "      <td>35.0</td>\n",
       "      <td>1</td>\n",
       "      <td>0</td>\n",
       "      <td>53.1000</td>\n",
       "      <td>1</td>\n",
       "      <td>0</td>\n",
       "      <td>0</td>\n",
       "      <td>0</td>\n",
       "      <td>1</td>\n",
       "    </tr>\n",
       "    <tr>\n",
       "      <th>4</th>\n",
       "      <td>0</td>\n",
       "      <td>3</td>\n",
       "      <td>35.0</td>\n",
       "      <td>0</td>\n",
       "      <td>0</td>\n",
       "      <td>8.0500</td>\n",
       "      <td>0</td>\n",
       "      <td>1</td>\n",
       "      <td>0</td>\n",
       "      <td>0</td>\n",
       "      <td>1</td>\n",
       "    </tr>\n",
       "  </tbody>\n",
       "</table>\n",
       "</div>"
      ],
      "text/plain": [
       "   Survived  Pclass   Age  SibSp  Parch     Fare  Sex_female  Sex_male  Embarked_C  Embarked_Q  Embarked_S\n",
       "0         0       3  22.0      1      0   7.2500           0         1           0           0           1\n",
       "1         1       1  38.0      1      0  71.2833           1         0           1           0           0\n",
       "2         1       3  26.0      0      0   7.9250           1         0           0           0           1\n",
       "3         1       1  35.0      1      0  53.1000           1         0           0           0           1\n",
       "4         0       3  35.0      0      0   8.0500           0         1           0           0           1"
      ]
     },
     "execution_count": 20,
     "metadata": {},
     "output_type": "execute_result"
    }
   ],
   "source": [
    "df_train_dummied.head()"
   ]
  },
  {
   "cell_type": "code",
   "execution_count": 21,
   "metadata": {},
   "outputs": [
    {
     "data": {
      "text/plain": [
       "<AxesSubplot:>"
      ]
     },
     "execution_count": 21,
     "metadata": {},
     "output_type": "execute_result"
    },
    {
     "data": {
      "image/png": "[encoded data removed]",
      "text/plain": [
       "<Figure size 432x288 with 2 Axes>"
      ]
     },
     "metadata": {},
     "output_type": "display_data"
    }
   ],
   "source": [
    "plt.figure(figsize=(6,4))\n",
    "sns.heatmap(df_train_dummied.corr())"
   ]
  },
  {
   "cell_type": "code",
   "execution_count": 22,
   "metadata": {},
   "outputs": [],
   "source": [
    "#lets build a classifier which can predict survival creating train and test data sets using X and Y variables\n",
    "\n",
    "used_features = [\"Pclass\",\"Age\",\"SibSp\",\"Parch\",\"Sex_female\",\"Sex_male\",\"Embarked_C\",\"Embarked_Q\",\"Embarked_S\"]\n",
    "\n",
    "X = df_train_dummied[used_features].values\n",
    "y = df_train_dummied['Survived']"
   ]
  },
  {
   "cell_type": "code",
   "execution_count": 23,
   "metadata": {},
   "outputs": [],
   "source": [
    "X_train,X_test,y_train,y_test = train_test_split(X,y,test_size=0.3,random_state=1)"
   ]
  },
  {
   "cell_type": "code",
   "execution_count": 24,
   "metadata": {},
   "outputs": [
    {
     "name": "stdout",
     "output_type": "stream",
     "text": [
      "(622, 9)\n",
      "(267, 9)\n",
      "(622,)\n",
      "(267,)\n"
     ]
    }
   ],
   "source": [
    "print(X_train.shape)\n",
    "print(X_test.shape)\n",
    "print(y_train.shape)\n",
    "print(y_test.shape)"
   ]
  },
  {
   "cell_type": "code",
   "execution_count": 25,
   "metadata": {},
   "outputs": [
    {
     "data": {
      "text/plain": [
       "LogisticRegression()"
      ]
     },
     "execution_count": 25,
     "metadata": {},
     "output_type": "execute_result"
    }
   ],
   "source": [
    "LogReg = LogisticRegression()\n",
    "LogReg.fit(X_train,y_train)\n"
   ]
  },
  {
   "cell_type": "code",
   "execution_count": 27,
   "metadata": {},
   "outputs": [
    {
     "data": {
      "text/plain": [
       "array([[143,  23],\n",
       "       [ 22,  79]], dtype=int64)"
      ]
     },
     "execution_count": 27,
     "metadata": {},
     "output_type": "execute_result"
    }
   ],
   "source": [
    "y_pred = LogReg.predict(X_test)\n",
    "\n",
    "#compute the confusion matrix to evaluate the accuracy of classification\n",
    "metrics.confusion_matrix(y_test,y_pred)"
   ]
  },
  {
   "cell_type": "code",
   "execution_count": 28,
   "metadata": {},
   "outputs": [
    {
     "data": {
      "text/plain": [
       "0.8314606741573034"
      ]
     },
     "execution_count": 28,
     "metadata": {},
     "output_type": "execute_result"
    }
   ],
   "source": [
    "#to obtain accuracy\n",
    "metrics.accuracy_score(y_test,y_pred)"
   ]
  },
  {
   "cell_type": "code",
   "execution_count": 29,
   "metadata": {},
   "outputs": [
    {
     "data": {
      "text/plain": [
       "267"
      ]
     },
     "execution_count": 29,
     "metadata": {},
     "output_type": "execute_result"
    }
   ],
   "source": [
    "len(X_test)"
   ]
  },
  {
   "cell_type": "code",
   "execution_count": 30,
   "metadata": {},
   "outputs": [
    {
     "name": "stdout",
     "output_type": "stream",
     "text": [
      "              precision    recall  f1-score   support\n",
      "\n",
      "           0       0.87      0.86      0.86       166\n",
      "           1       0.77      0.78      0.78       101\n",
      "\n",
      "    accuracy                           0.83       267\n",
      "   macro avg       0.82      0.82      0.82       267\n",
      "weighted avg       0.83      0.83      0.83       267\n",
      "\n"
     ]
    }
   ],
   "source": [
    "#computing other performance measures from the confusion matrix\n",
    "print(classification_report(y_test,y_pred))"
   ]
  },
  {
   "cell_type": "code",
   "execution_count": 31,
   "metadata": {},
   "outputs": [
    {
     "data": {
      "text/plain": [
       "array([[-1.0416583 , -0.03986563, -0.2418657 , -0.0405489 ,  1.19684229,\n",
       "        -1.191862  ,  0.35142572, -0.03561634, -0.3108291 ]])"
      ]
     },
     "execution_count": 31,
     "metadata": {},
     "output_type": "execute_result"
    }
   ],
   "source": [
    "LogReg.coef_"
   ]
  },
  {
   "cell_type": "code",
   "execution_count": 32,
   "metadata": {},
   "outputs": [
    {
     "data": {
      "text/plain": [
       "array([3.6503613])"
      ]
     },
     "execution_count": 32,
     "metadata": {},
     "output_type": "execute_result"
    }
   ],
   "source": [
    "LogReg.intercept_"
   ]
  },
  {
   "cell_type": "code",
   "execution_count": 33,
   "metadata": {},
   "outputs": [
    {
     "data": {
      "text/plain": [
       "Index(['Pclass', 'Age', 'SibSp', 'Parch', 'Sex_female', 'Sex_male',\n",
       "       'Embarked_C', 'Embarked_Q', 'Embarked_S'],\n",
       "      dtype='object')"
      ]
     },
     "execution_count": 33,
     "metadata": {},
     "output_type": "execute_result"
    }
   ],
   "source": [
    "#we can further check our algorithms predicted probabilities using the X_test\n",
    "\n",
    "df_train_dummied[used_features].columns"
   ]
  },
  {
   "cell_type": "code",
   "execution_count": 34,
   "metadata": {},
   "outputs": [
    {
     "data": {
      "text/plain": [
       "array([[0.26543762, 0.73456238],\n",
       "       [0.39670167, 0.60329833],\n",
       "       [0.94739252, 0.05260748],\n",
       "       [0.25946287, 0.74053713],\n",
       "       [0.94405682, 0.05594318],\n",
       "       [0.13498849, 0.86501151],\n",
       "       [0.33318424, 0.66681576],\n",
       "       [0.51891172, 0.48108828],\n",
       "       [0.78162823, 0.21837177],\n",
       "       [0.40735921, 0.59264079],\n",
       "       [0.74014692, 0.25985308],\n",
       "       [0.21156393, 0.78843607],\n",
       "       [0.74871108, 0.25128892],\n",
       "       [0.14562753, 0.85437247],\n",
       "       [0.86463688, 0.13536312],\n",
       "       [0.36950158, 0.63049842],\n",
       "       [0.89368398, 0.10631602],\n",
       "       [0.29766694, 0.70233306],\n",
       "       [0.17634635, 0.82365365],\n",
       "       [0.39887297, 0.60112703],\n",
       "       [0.90490942, 0.09509058],\n",
       "       [0.55285824, 0.44714176],\n",
       "       [0.86434636, 0.13565364],\n",
       "       [0.93739461, 0.06260539],\n",
       "       [0.51638224, 0.48361776],\n",
       "       [0.51590185, 0.48409815],\n",
       "       [0.03915836, 0.96084164],\n",
       "       [0.8692353 , 0.1307647 ],\n",
       "       [0.89806853, 0.10193147],\n",
       "       [0.32523047, 0.67476953],\n",
       "       [0.38826185, 0.61173815],\n",
       "       [0.40782367, 0.59217633],\n",
       "       [0.15503939, 0.84496061],\n",
       "       [0.41471038, 0.58528962],\n",
       "       [0.59122132, 0.40877868],\n",
       "       [0.16577391, 0.83422609],\n",
       "       [0.65717898, 0.34282102],\n",
       "       [0.87370032, 0.12629968],\n",
       "       [0.24339848, 0.75660152],\n",
       "       [0.57576927, 0.42423073],\n",
       "       [0.43685651, 0.56314349],\n",
       "       [0.91135205, 0.08864795],\n",
       "       [0.31627524, 0.68372476],\n",
       "       [0.87370032, 0.12629968],\n",
       "       [0.79667764, 0.20332236],\n",
       "       [0.23552764, 0.76447236],\n",
       "       [0.17063045, 0.82936955],\n",
       "       [0.81613922, 0.18386078],\n",
       "       [0.06080968, 0.93919032],\n",
       "       [0.92359311, 0.07640689],\n",
       "       [0.87370032, 0.12629968],\n",
       "       [0.42721127, 0.57278873],\n",
       "       [0.88381138, 0.11618862],\n",
       "       [0.09122677, 0.90877323],\n",
       "       [0.74871108, 0.25128892],\n",
       "       [0.07062531, 0.92937469],\n",
       "       [0.77750965, 0.22249035],\n",
       "       [0.95150917, 0.04849083],\n",
       "       [0.70110304, 0.29889696],\n",
       "       [0.93703997, 0.06296003],\n",
       "       [0.8153649 , 0.1846351 ],\n",
       "       [0.85990282, 0.14009718],\n",
       "       [0.59122132, 0.40877868],\n",
       "       [0.87370032, 0.12629968],\n",
       "       [0.42721127, 0.57278873],\n",
       "       [0.23613229, 0.76386771],\n",
       "       [0.87370032, 0.12629968],\n",
       "       [0.9115522 , 0.0884478 ],\n",
       "       [0.84471967, 0.15528033],\n",
       "       [0.0543626 , 0.9456374 ],\n",
       "       [0.86406251, 0.13593749],\n",
       "       [0.05644877, 0.94355123],\n",
       "       [0.65243582, 0.34756418],\n",
       "       [0.85990282, 0.14009718],\n",
       "       [0.31459986, 0.68540014],\n",
       "       [0.13498849, 0.86501151],\n",
       "       [0.84008588, 0.15991412],\n",
       "       [0.92378145, 0.07621855],\n",
       "       [0.82552523, 0.17447477],\n",
       "       [0.83341181, 0.16658819],\n",
       "       [0.84008588, 0.15991412],\n",
       "       [0.86463688, 0.13536312],\n",
       "       [0.03915836, 0.96084164],\n",
       "       [0.05980694, 0.94019306],\n",
       "       [0.76341262, 0.23658738],\n",
       "       [0.61977974, 0.38022026],\n",
       "       [0.43878225, 0.56121775],\n",
       "       [0.42737848, 0.57262152],\n",
       "       [0.87370032, 0.12629968],\n",
       "       [0.36950158, 0.63049842],\n",
       "       [0.89782368, 0.10217632],\n",
       "       [0.32523047, 0.67476953],\n",
       "       [0.93427757, 0.06572243],\n",
       "       [0.78105502, 0.21894498],\n",
       "       [0.24659062, 0.75340938],\n",
       "       [0.83923412, 0.16076588],\n",
       "       [0.22933475, 0.77066525],\n",
       "       [0.27448157, 0.72551843],\n",
       "       [0.24659062, 0.75340938],\n",
       "       [0.21467802, 0.78532198],\n",
       "       [0.85001921, 0.14998079],\n",
       "       [0.34225319, 0.65774681],\n",
       "       [0.60575307, 0.39424693],\n",
       "       [0.85503095, 0.14496905],\n",
       "       [0.85503095, 0.14496905],\n",
       "       [0.90588337, 0.09411663],\n",
       "       [0.13648881, 0.86351119],\n",
       "       [0.85001921, 0.14998079],\n",
       "       [0.76711534, 0.23288466],\n",
       "       [0.81613922, 0.18386078],\n",
       "       [0.63899772, 0.36100228],\n",
       "       [0.74871108, 0.25128892],\n",
       "       [0.78105502, 0.21894498],\n",
       "       [0.18608235, 0.81391765],\n",
       "       [0.35984938, 0.64015062],\n",
       "       [0.08609036, 0.91390964],\n",
       "       [0.91564974, 0.08435026],\n",
       "       [0.40735921, 0.59264079],\n",
       "       [0.06404733, 0.93595267],\n",
       "       [0.79099667, 0.20900333],\n",
       "       [0.87803427, 0.12196573],\n",
       "       [0.20586286, 0.79413714],\n",
       "       [0.32523047, 0.67476953],\n",
       "       [0.50255644, 0.49744356],\n",
       "       [0.20773762, 0.79226238],\n",
       "       [0.89220602, 0.10779398],\n",
       "       [0.44317539, 0.55682461],\n",
       "       [0.90950424, 0.09049576],\n",
       "       [0.88223956, 0.11776044],\n",
       "       [0.57725663, 0.42274337],\n",
       "       [0.44701007, 0.55298993],\n",
       "       [0.60575307, 0.39424693],\n",
       "       [0.87853902, 0.12146098],\n",
       "       [0.59122132, 0.40877868],\n",
       "       [0.36950158, 0.63049842],\n",
       "       [0.07075595, 0.92924405],\n",
       "       [0.85990282, 0.14009718],\n",
       "       [0.92635931, 0.07364069],\n",
       "       [0.87370032, 0.12629968],\n",
       "       [0.89027395, 0.10972605],\n",
       "       [0.85928102, 0.14071898],\n",
       "       [0.31517628, 0.68482372],\n",
       "       [0.92359311, 0.07640689],\n",
       "       [0.38889665, 0.61110335],\n",
       "       [0.59122132, 0.40877868],\n",
       "       [0.69229921, 0.30770079],\n",
       "       [0.17953886, 0.82046114],\n",
       "       [0.10686796, 0.89313204],\n",
       "       [0.07884026, 0.92115974],\n",
       "       [0.92950641, 0.07049359],\n",
       "       [0.85690704, 0.14309296],\n",
       "       [0.93652481, 0.06347519],\n",
       "       [0.14220751, 0.85779249],\n",
       "       [0.85001921, 0.14998079],\n",
       "       [0.37928917, 0.62071083],\n",
       "       [0.36950158, 0.63049842],\n",
       "       [0.79014369, 0.20985631],\n",
       "       [0.37169002, 0.62830998],\n",
       "       [0.89027395, 0.10972605],\n",
       "       [0.87370032, 0.12629968],\n",
       "       [0.50255644, 0.49744356],\n",
       "       [0.77053714, 0.22946286],\n",
       "       [0.57725663, 0.42274337],\n",
       "       [0.86997445, 0.13002555],\n",
       "       [0.87313073, 0.12686927],\n",
       "       [0.83412584, 0.16587416],\n",
       "       [0.13680402, 0.86319598],\n",
       "       [0.05943073, 0.94056927],\n",
       "       [0.77843269, 0.22156731],\n",
       "       [0.23625555, 0.76374445],\n",
       "       [0.85001921, 0.14998079],\n",
       "       [0.89892419, 0.10107581],\n",
       "       [0.84008588, 0.15991412],\n",
       "       [0.87370032, 0.12629968],\n",
       "       [0.67995649, 0.32004351],\n",
       "       [0.29085755, 0.70914245],\n",
       "       [0.86463688, 0.13536312],\n",
       "       [0.70938966, 0.29061034],\n",
       "       [0.87370032, 0.12629968],\n",
       "       [0.85001921, 0.14998079],\n",
       "       [0.84008588, 0.15991412],\n",
       "       [0.87370032, 0.12629968],\n",
       "       [0.65136346, 0.34863654],\n",
       "       [0.93233774, 0.06766226],\n",
       "       [0.32523047, 0.67476953],\n",
       "       [0.82655401, 0.17344599],\n",
       "       [0.38037157, 0.61962843],\n",
       "       [0.58155277, 0.41844723],\n",
       "       [0.22798869, 0.77201131],\n",
       "       [0.90490942, 0.09509058],\n",
       "       [0.75567932, 0.24432068],\n",
       "       [0.71703619, 0.28296381],\n",
       "       [0.86463688, 0.13536312],\n",
       "       [0.76389486, 0.23610514],\n",
       "       [0.93672397, 0.06327603],\n",
       "       [0.74774056, 0.25225944],\n",
       "       [0.89868116, 0.10131884],\n",
       "       [0.28943983, 0.71056017],\n",
       "       [0.59122132, 0.40877868],\n",
       "       [0.06560966, 0.93439034],\n",
       "       [0.70194869, 0.29805131],\n",
       "       [0.18298061, 0.81701939],\n",
       "       [0.77851742, 0.22148258],\n",
       "       [0.54743223, 0.45256777],\n",
       "       [0.04750745, 0.95249255],\n",
       "       [0.89027395, 0.10972605],\n",
       "       [0.87588353, 0.12411647],\n",
       "       [0.32271654, 0.67728346],\n",
       "       [0.81018619, 0.18981381],\n",
       "       [0.08797515, 0.91202485],\n",
       "       [0.84008588, 0.15991412],\n",
       "       [0.74113655, 0.25886345],\n",
       "       [0.78105502, 0.21894498],\n",
       "       [0.76711534, 0.23288466],\n",
       "       [0.30814209, 0.69185791],\n",
       "       [0.19492069, 0.80507931],\n",
       "       [0.7561369 , 0.2438631 ],\n",
       "       [0.19271737, 0.80728263],\n",
       "       [0.91471406, 0.08528594],\n",
       "       [0.69215434, 0.30784566],\n",
       "       [0.86997445, 0.13002555],\n",
       "       [0.497652  , 0.502348  ],\n",
       "       [0.67008166, 0.32991834],\n",
       "       [0.22147544, 0.77852456],\n",
       "       [0.24327267, 0.75672733],\n",
       "       [0.86463688, 0.13536312],\n",
       "       [0.57390273, 0.42609727],\n",
       "       [0.84008588, 0.15991412],\n",
       "       [0.78779594, 0.21220406],\n",
       "       [0.74883961, 0.25116039],\n",
       "       [0.38037157, 0.61962843],\n",
       "       [0.29421217, 0.70578783],\n",
       "       [0.46713225, 0.53286775],\n",
       "       [0.84008588, 0.15991412],\n",
       "       [0.89782368, 0.10217632],\n",
       "       [0.89053469, 0.10946531],\n",
       "       [0.87370032, 0.12629968],\n",
       "       [0.79848241, 0.20151759],\n",
       "       [0.35305328, 0.64694672],\n",
       "       [0.87803427, 0.12196573],\n",
       "       [0.29766694, 0.70233306],\n",
       "       [0.84008588, 0.15991412],\n",
       "       [0.85001921, 0.14998079],\n",
       "       [0.67067207, 0.32932793],\n",
       "       [0.51673975, 0.48326025],\n",
       "       [0.09863383, 0.90136617],\n",
       "       [0.13312076, 0.86687924],\n",
       "       [0.79754186, 0.20245814],\n",
       "       [0.69158473, 0.30841527],\n",
       "       [0.87399486, 0.12600514],\n",
       "       [0.24196059, 0.75803941],\n",
       "       [0.32523047, 0.67476953],\n",
       "       [0.39777162, 0.60222838],\n",
       "       [0.94114063, 0.05885937],\n",
       "       [0.1091533 , 0.8908467 ],\n",
       "       [0.2255163 , 0.7744837 ],\n",
       "       [0.88223956, 0.11776044],\n",
       "       [0.90490942, 0.09509058],\n",
       "       [0.0392098 , 0.9607902 ],\n",
       "       [0.78105502, 0.21894498],\n",
       "       [0.20154181, 0.79845819],\n",
       "       [0.87412418, 0.12587582],\n",
       "       [0.6573329 , 0.3426671 ],\n",
       "       [0.87370032, 0.12629968],\n",
       "       [0.29421217, 0.70578783],\n",
       "       [0.84008588, 0.15991412],\n",
       "       [0.91187725, 0.08812275]])"
      ]
     },
     "execution_count": 34,
     "metadata": {},
     "output_type": "execute_result"
    }
   ],
   "source": [
    "#the first col is the probability that the entry has not survived label and 2nd is the survived label\n",
    "\n",
    "LogReg.predict_proba(X_test)"
   ]
  },
  {
   "cell_type": "code",
   "execution_count": 35,
   "metadata": {},
   "outputs": [
    {
     "data": {
      "text/plain": [
       "(267, 2)"
      ]
     },
     "execution_count": 35,
     "metadata": {},
     "output_type": "execute_result"
    }
   ],
   "source": [
    "LogReg.predict_proba(X_test).shape"
   ]
  },
  {
   "cell_type": "code",
   "execution_count": null,
   "metadata": {},
   "outputs": [],
   "source": []
  }
 ],
 "metadata": {
  "kernelspec": {
   "display_name": "Python 3 (ipykernel)",
   "language": "python",
   "name": "python3"
  },
  "language_info": {
   "codemirror_mode": {
    "name": "ipython",
    "version": 3
   },
   "file_extension": ".py",
   "mimetype": "text/x-python",
   "name": "python",
   "nbconvert_exporter": "python",
   "pygments_lexer": "ipython3",
   "version": "3.8.8"
  }
 },
 "nbformat": 4,
 "nbformat_minor": 4
}
