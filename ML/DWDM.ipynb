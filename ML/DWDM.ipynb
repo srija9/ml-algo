{
 "cells": [
  {
   "cell_type": "code",
   "execution_count": 2,
   "metadata": {},
   "outputs": [],
   "source": [
    "import pandas as pd\n",
    "import numpy as np\n",
    "\n",
    "import matplotlib\n",
    "import matplotlib.pyplot as plt\n",
    "from pandas.plotting import scatter_matrix\n",
    "%matplotlib inline\n",
    "\n",
    "import seaborn as sns\n",
    "sns.set(style=\"white\",color_codes=True)\n",
    "sns.set(font_scale=1.5)\n",
    "\n",
    "from sklearn.linear_model import LogisticRegression\n",
    "from sklearn.model_selection import train_test_split\n",
    "\n",
    "from sklearn.metrics import confusion_matrix\n",
    "from sklearn.metrics import classification_report\n",
    "from sklearn.metrics import accuracy_score\n",
    "from sklearn.metrics import precision_score\n",
    "from sklearn.metrics import recall_score\n",
    "from sklearn.metrics import f1_score\n",
    "from sklearn import metrics"
   ]
  },
  {
   "cell_type": "code",
   "execution_count": 3,
   "metadata": {},
   "outputs": [],
   "source": [
    "df_train = pd.read_csv(r'/home/srija/Documents/train.csv')"
   ]
  },
  {
   "cell_type": "code",
   "execution_count": 4,
   "metadata": {},
   "outputs": [
    {
     "data": {
      "text/plain": [
       "(891, 12)"
      ]
     },
     "execution_count": 4,
     "metadata": {},
     "output_type": "execute_result"
    }
   ],
   "source": [
    "df_train.shape"
   ]
  },
  {
   "cell_type": "code",
   "execution_count": 5,
   "metadata": {},
   "outputs": [
    {
     "data": {
      "text/plain": [
       "0    549\n",
       "1    342\n",
       "Name: Survived, dtype: int64"
      ]
     },
     "execution_count": 5,
     "metadata": {},
     "output_type": "execute_result"
    }
   ],
   "source": [
    "df_train.Survived.value_counts()"
   ]
  },
  {
   "cell_type": "code",
   "execution_count": 6,
   "metadata": {},
   "outputs": [
    {
     "data": {
      "text/plain": [
       "male      577\n",
       "female    314\n",
       "Name: Gender, dtype: int64"
      ]
     },
     "execution_count": 6,
     "metadata": {},
     "output_type": "execute_result"
    }
   ],
   "source": [
    "df_train.Gender.value_counts()"
   ]
  },
  {
   "cell_type": "code",
   "execution_count": 7,
   "metadata": {},
   "outputs": [
    {
     "data": {
      "text/plain": [
       "S    644\n",
       "C    168\n",
       "Q     77\n",
       "Name: Embarked, dtype: int64"
      ]
     },
     "execution_count": 7,
     "metadata": {},
     "output_type": "execute_result"
    }
   ],
   "source": [
    "df_train.Embarked.value_counts()"
   ]
  },
  {
   "cell_type": "code",
   "execution_count": 9,
   "metadata": {},
   "outputs": [
    {
     "data": {
      "text/plain": [
       "PassengerId      0\n",
       "Survived         0\n",
       "Pclass           0\n",
       "Name             0\n",
       "Gender           0\n",
       "Age            177\n",
       "SibSp            0\n",
       "Parch            0\n",
       "Ticket           0\n",
       "Fare             0\n",
       "Cabin          687\n",
       "Embarked         2\n",
       "dtype: int64"
      ]
     },
     "execution_count": 9,
     "metadata": {},
     "output_type": "execute_result"
    }
   ],
   "source": [
    "df_train.isnull().sum()"
   ]
  },
  {
   "cell_type": "code",
   "execution_count": 8,
   "metadata": {},
   "outputs": [],
   "source": [
    "df_train = df_train.drop(['PassengerId','Name','Ticket','Cabin'],axis=1)"
   ]
  },
  {
   "cell_type": "code",
   "execution_count": 9,
   "metadata": {},
   "outputs": [
    {
     "data": {
      "text/html": [
       "<div>\n",
       "<style scoped>\n",
       "    .dataframe tbody tr th:only-of-type {\n",
       "        vertical-align: middle;\n",
       "    }\n",
       "\n",
       "    .dataframe tbody tr th {\n",
       "        vertical-align: top;\n",
       "    }\n",
       "\n",
       "    .dataframe thead th {\n",
       "        text-align: right;\n",
       "    }\n",
       "</style>\n",
       "<table border=\"1\" class=\"dataframe\">\n",
       "  <thead>\n",
       "    <tr style=\"text-align: right;\">\n",
       "      <th></th>\n",
       "      <th>Survived</th>\n",
       "      <th>Pclass</th>\n",
       "      <th>Gender</th>\n",
       "      <th>Age</th>\n",
       "      <th>SibSp</th>\n",
       "      <th>Parch</th>\n",
       "      <th>Fare</th>\n",
       "      <th>Embarked</th>\n",
       "    </tr>\n",
       "  </thead>\n",
       "  <tbody>\n",
       "    <tr>\n",
       "      <th>0</th>\n",
       "      <td>0</td>\n",
       "      <td>3</td>\n",
       "      <td>male</td>\n",
       "      <td>22.0</td>\n",
       "      <td>1</td>\n",
       "      <td>0</td>\n",
       "      <td>7.2500</td>\n",
       "      <td>S</td>\n",
       "    </tr>\n",
       "    <tr>\n",
       "      <th>1</th>\n",
       "      <td>1</td>\n",
       "      <td>1</td>\n",
       "      <td>female</td>\n",
       "      <td>38.0</td>\n",
       "      <td>1</td>\n",
       "      <td>0</td>\n",
       "      <td>71.2833</td>\n",
       "      <td>C</td>\n",
       "    </tr>\n",
       "    <tr>\n",
       "      <th>2</th>\n",
       "      <td>1</td>\n",
       "      <td>3</td>\n",
       "      <td>female</td>\n",
       "      <td>26.0</td>\n",
       "      <td>0</td>\n",
       "      <td>0</td>\n",
       "      <td>7.9250</td>\n",
       "      <td>S</td>\n",
       "    </tr>\n",
       "    <tr>\n",
       "      <th>3</th>\n",
       "      <td>1</td>\n",
       "      <td>1</td>\n",
       "      <td>female</td>\n",
       "      <td>35.0</td>\n",
       "      <td>1</td>\n",
       "      <td>0</td>\n",
       "      <td>53.1000</td>\n",
       "      <td>S</td>\n",
       "    </tr>\n",
       "    <tr>\n",
       "      <th>4</th>\n",
       "      <td>0</td>\n",
       "      <td>3</td>\n",
       "      <td>male</td>\n",
       "      <td>35.0</td>\n",
       "      <td>0</td>\n",
       "      <td>0</td>\n",
       "      <td>8.0500</td>\n",
       "      <td>S</td>\n",
       "    </tr>\n",
       "  </tbody>\n",
       "</table>\n",
       "</div>"
      ],
      "text/plain": [
       "   Survived  Pclass  Gender   Age  SibSp  Parch     Fare Embarked\n",
       "0         0       3    male  22.0      1      0   7.2500        S\n",
       "1         1       1  female  38.0      1      0  71.2833        C\n",
       "2         1       3  female  26.0      0      0   7.9250        S\n",
       "3         1       1  female  35.0      1      0  53.1000        S\n",
       "4         0       3    male  35.0      0      0   8.0500        S"
      ]
     },
     "execution_count": 9,
     "metadata": {},
     "output_type": "execute_result"
    }
   ],
   "source": [
    "df_train.head()"
   ]
  },
  {
   "cell_type": "code",
   "execution_count": 10,
   "metadata": {},
   "outputs": [],
   "source": [
    "def age_approx(cols):\n",
    "    Age = cols[0]\n",
    "    Pclass = cols[1]\n",
    "    \n",
    "    if pd.isnull(Age):\n",
    "        if Pclass == 1:\n",
    "            return 37\n",
    "        elif Pclass == 2:\n",
    "            return 29\n",
    "        else:\n",
    "            return 24\n",
    "    else:\n",
    "        return Age"
   ]
  },
  {
   "cell_type": "code",
   "execution_count": 11,
   "metadata": {},
   "outputs": [
    {
     "data": {
      "text/html": [
       "<div>\n",
       "<style scoped>\n",
       "    .dataframe tbody tr th:only-of-type {\n",
       "        vertical-align: middle;\n",
       "    }\n",
       "\n",
       "    .dataframe tbody tr th {\n",
       "        vertical-align: top;\n",
       "    }\n",
       "\n",
       "    .dataframe thead th {\n",
       "        text-align: right;\n",
       "    }\n",
       "</style>\n",
       "<table border=\"1\" class=\"dataframe\">\n",
       "  <thead>\n",
       "    <tr style=\"text-align: right;\">\n",
       "      <th></th>\n",
       "      <th>Survived</th>\n",
       "      <th>Age</th>\n",
       "      <th>SibSp</th>\n",
       "      <th>Parch</th>\n",
       "      <th>Fare</th>\n",
       "    </tr>\n",
       "    <tr>\n",
       "      <th>Pclass</th>\n",
       "      <th></th>\n",
       "      <th></th>\n",
       "      <th></th>\n",
       "      <th></th>\n",
       "      <th></th>\n",
       "    </tr>\n",
       "  </thead>\n",
       "  <tbody>\n",
       "    <tr>\n",
       "      <th>1</th>\n",
       "      <td>0.629630</td>\n",
       "      <td>38.233441</td>\n",
       "      <td>0.416667</td>\n",
       "      <td>0.356481</td>\n",
       "      <td>84.154687</td>\n",
       "    </tr>\n",
       "    <tr>\n",
       "      <th>2</th>\n",
       "      <td>0.472826</td>\n",
       "      <td>29.877630</td>\n",
       "      <td>0.402174</td>\n",
       "      <td>0.380435</td>\n",
       "      <td>20.662183</td>\n",
       "    </tr>\n",
       "    <tr>\n",
       "      <th>3</th>\n",
       "      <td>0.242363</td>\n",
       "      <td>25.140620</td>\n",
       "      <td>0.615071</td>\n",
       "      <td>0.393075</td>\n",
       "      <td>13.675550</td>\n",
       "    </tr>\n",
       "  </tbody>\n",
       "</table>\n",
       "</div>"
      ],
      "text/plain": [
       "        Survived        Age     SibSp     Parch       Fare\n",
       "Pclass                                                    \n",
       "1       0.629630  38.233441  0.416667  0.356481  84.154687\n",
       "2       0.472826  29.877630  0.402174  0.380435  20.662183\n",
       "3       0.242363  25.140620  0.615071  0.393075  13.675550"
      ]
     },
     "execution_count": 11,
     "metadata": {},
     "output_type": "execute_result"
    }
   ],
   "source": [
    "df_train.groupby(['Pclass']).mean()"
   ]
  },
  {
   "cell_type": "code",
   "execution_count": 12,
   "metadata": {},
   "outputs": [],
   "source": [
    "df_train['Age'] = df_train[['Age','Pclass']].apply(age_approx,axis=1)"
   ]
  },
  {
   "cell_type": "code",
   "execution_count": 13,
   "metadata": {},
   "outputs": [
    {
     "data": {
      "text/plain": [
       "Survived    0\n",
       "Pclass      0\n",
       "Gender      0\n",
       "Age         0\n",
       "SibSp       0\n",
       "Parch       0\n",
       "Fare        0\n",
       "Embarked    2\n",
       "dtype: int64"
      ]
     },
     "execution_count": 13,
     "metadata": {},
     "output_type": "execute_result"
    }
   ],
   "source": [
    "df_train.isnull().sum()"
   ]
  },
  {
   "cell_type": "code",
   "execution_count": 14,
   "metadata": {},
   "outputs": [],
   "source": [
    "df_train.dropna(inplace=True)"
   ]
  },
  {
   "cell_type": "code",
   "execution_count": 15,
   "metadata": {},
   "outputs": [
    {
     "data": {
      "text/plain": [
       "Survived    0\n",
       "Pclass      0\n",
       "Gender      0\n",
       "Age         0\n",
       "SibSp       0\n",
       "Parch       0\n",
       "Fare        0\n",
       "Embarked    0\n",
       "dtype: int64"
      ]
     },
     "execution_count": 15,
     "metadata": {},
     "output_type": "execute_result"
    }
   ],
   "source": [
    "df_train.isnull().sum()"
   ]
  },
  {
   "cell_type": "code",
   "execution_count": 16,
   "metadata": {},
   "outputs": [],
   "source": [
    "df_train_dummied = pd.get_dummies(df_train,columns=['Gender'])\n",
    "df_train_dummied = pd.get_dummies(df_train_dummied,columns=['Embarked'])"
   ]
  },
  {
   "cell_type": "code",
   "execution_count": 17,
   "metadata": {},
   "outputs": [
    {
     "data": {
      "text/html": [
       "<div>\n",
       "<style scoped>\n",
       "    .dataframe tbody tr th:only-of-type {\n",
       "        vertical-align: middle;\n",
       "    }\n",
       "\n",
       "    .dataframe tbody tr th {\n",
       "        vertical-align: top;\n",
       "    }\n",
       "\n",
       "    .dataframe thead th {\n",
       "        text-align: right;\n",
       "    }\n",
       "</style>\n",
       "<table border=\"1\" class=\"dataframe\">\n",
       "  <thead>\n",
       "    <tr style=\"text-align: right;\">\n",
       "      <th></th>\n",
       "      <th>Survived</th>\n",
       "      <th>Pclass</th>\n",
       "      <th>Age</th>\n",
       "      <th>SibSp</th>\n",
       "      <th>Parch</th>\n",
       "      <th>Fare</th>\n",
       "      <th>Gender_female</th>\n",
       "      <th>Gender_male</th>\n",
       "      <th>Embarked_C</th>\n",
       "      <th>Embarked_Q</th>\n",
       "      <th>Embarked_S</th>\n",
       "    </tr>\n",
       "  </thead>\n",
       "  <tbody>\n",
       "    <tr>\n",
       "      <th>0</th>\n",
       "      <td>0</td>\n",
       "      <td>3</td>\n",
       "      <td>22.0</td>\n",
       "      <td>1</td>\n",
       "      <td>0</td>\n",
       "      <td>7.2500</td>\n",
       "      <td>0</td>\n",
       "      <td>1</td>\n",
       "      <td>0</td>\n",
       "      <td>0</td>\n",
       "      <td>1</td>\n",
       "    </tr>\n",
       "    <tr>\n",
       "      <th>1</th>\n",
       "      <td>1</td>\n",
       "      <td>1</td>\n",
       "      <td>38.0</td>\n",
       "      <td>1</td>\n",
       "      <td>0</td>\n",
       "      <td>71.2833</td>\n",
       "      <td>1</td>\n",
       "      <td>0</td>\n",
       "      <td>1</td>\n",
       "      <td>0</td>\n",
       "      <td>0</td>\n",
       "    </tr>\n",
       "    <tr>\n",
       "      <th>2</th>\n",
       "      <td>1</td>\n",
       "      <td>3</td>\n",
       "      <td>26.0</td>\n",
       "      <td>0</td>\n",
       "      <td>0</td>\n",
       "      <td>7.9250</td>\n",
       "      <td>1</td>\n",
       "      <td>0</td>\n",
       "      <td>0</td>\n",
       "      <td>0</td>\n",
       "      <td>1</td>\n",
       "    </tr>\n",
       "    <tr>\n",
       "      <th>3</th>\n",
       "      <td>1</td>\n",
       "      <td>1</td>\n",
       "      <td>35.0</td>\n",
       "      <td>1</td>\n",
       "      <td>0</td>\n",
       "      <td>53.1000</td>\n",
       "      <td>1</td>\n",
       "      <td>0</td>\n",
       "      <td>0</td>\n",
       "      <td>0</td>\n",
       "      <td>1</td>\n",
       "    </tr>\n",
       "    <tr>\n",
       "      <th>4</th>\n",
       "      <td>0</td>\n",
       "      <td>3</td>\n",
       "      <td>35.0</td>\n",
       "      <td>0</td>\n",
       "      <td>0</td>\n",
       "      <td>8.0500</td>\n",
       "      <td>0</td>\n",
       "      <td>1</td>\n",
       "      <td>0</td>\n",
       "      <td>0</td>\n",
       "      <td>1</td>\n",
       "    </tr>\n",
       "  </tbody>\n",
       "</table>\n",
       "</div>"
      ],
      "text/plain": [
       "   Survived  Pclass   Age  SibSp  Parch     Fare  Gender_female  Gender_male  \\\n",
       "0         0       3  22.0      1      0   7.2500              0            1   \n",
       "1         1       1  38.0      1      0  71.2833              1            0   \n",
       "2         1       3  26.0      0      0   7.9250              1            0   \n",
       "3         1       1  35.0      1      0  53.1000              1            0   \n",
       "4         0       3  35.0      0      0   8.0500              0            1   \n",
       "\n",
       "   Embarked_C  Embarked_Q  Embarked_S  \n",
       "0           0           0           1  \n",
       "1           1           0           0  \n",
       "2           0           0           1  \n",
       "3           0           0           1  \n",
       "4           0           0           1  "
      ]
     },
     "execution_count": 17,
     "metadata": {},
     "output_type": "execute_result"
    }
   ],
   "source": [
    "df_train_dummied.head()"
   ]
  },
  {
   "cell_type": "code",
   "execution_count": 18,
   "metadata": {},
   "outputs": [
    {
     "data": {
      "text/plain": [
       "<AxesSubplot:>"
      ]
     },
     "execution_count": 18,
     "metadata": {},
     "output_type": "execute_result"
    },
    {
     "data": {
      "image/png": "[encoded data removed]",
      "text/plain": [
       "<Figure size 432x288 with 2 Axes>"
      ]
     },
     "metadata": {},
     "output_type": "display_data"
    }
   ],
   "source": [
    "plt.figure(figsize=(6,4))\n",
    "sns.heatmap(df_train_dummied.corr())"
   ]
  },
  {
   "cell_type": "code",
   "execution_count": 19,
   "metadata": {},
   "outputs": [],
   "source": [
    "used_features = [\"Pclass\",\"Age\",\"SibSp\",\"Parch\",\"Gender_female\",\"Gender_male\",\"Embarked_C\",\"Embarked_Q\",\"Embarked_S\"]\n",
    "\n",
    "X = df_train_dummied[used_features].values\n",
    "y = df_train_dummied['Survived']"
   ]
  },
  {
   "cell_type": "code",
   "execution_count": 20,
   "metadata": {},
   "outputs": [],
   "source": [
    "X_train,X_test,y_train,y_test = train_test_split(X,y,test_size=0.3,random_state=1)"
   ]
  },
  {
   "cell_type": "code",
   "execution_count": 21,
   "metadata": {},
   "outputs": [
    {
     "name": "stdout",
     "output_type": "stream",
     "text": [
      "(622, 9)\n",
      "(267, 9)\n",
      "(622,)\n",
      "(267,)\n"
     ]
    }
   ],
   "source": [
    "print(X_train.shape)\n",
    "print(X_test.shape)\n",
    "print(y_train.shape)\n",
    "print(y_test.shape)"
   ]
  },
  {
   "cell_type": "code",
   "execution_count": 22,
   "metadata": {},
   "outputs": [
    {
     "name": "stderr",
     "output_type": "stream",
     "text": [
      "/home/srija/anaconda3/lib/python3.8/site-packages/sklearn/linear_model/_logistic.py:763: ConvergenceWarning: lbfgs failed to converge (status=1):\n",
      "STOP: TOTAL NO. of ITERATIONS REACHED LIMIT.\n",
      "\n",
      "Increase the number of iterations (max_iter) or scale the data as shown in:\n",
      "    https://scikit-learn.org/stable/modules/preprocessing.html\n",
      "Please also refer to the documentation for alternative solver options:\n",
      "    https://scikit-learn.org/stable/modules/linear_model.html#logistic-regression\n",
      "  n_iter_i = _check_optimize_result(\n"
     ]
    },
    {
     "data": {
      "text/plain": [
       "LogisticRegression()"
      ]
     },
     "execution_count": 22,
     "metadata": {},
     "output_type": "execute_result"
    }
   ],
   "source": [
    "LogReg = LogisticRegression()\n",
    "LogReg.fit(X_train,y_train)"
   ]
  },
  {
   "cell_type": "code",
   "execution_count": 23,
   "metadata": {},
   "outputs": [
    {
     "data": {
      "text/plain": [
       "array([[143,  23],\n",
       "       [ 22,  79]])"
      ]
     },
     "execution_count": 23,
     "metadata": {},
     "output_type": "execute_result"
    }
   ],
   "source": [
    "y_pred = LogReg.predict(X_test)\n",
    "\n",
    "#compute the confusion matrix to evaluate the accuracy of classification\n",
    "metrics.confusion_matrix(y_test,y_pred)"
   ]
  },
  {
   "cell_type": "code",
   "execution_count": 26,
   "metadata": {},
   "outputs": [
    {
     "data": {
      "text/plain": [
       "0.8314606741573034"
      ]
     },
     "execution_count": 26,
     "metadata": {},
     "output_type": "execute_result"
    }
   ],
   "source": [
    "#to obtain accuracy\n",
    "metrics.accuracy_score(y_test,y_pred)"
   ]
  },
  {
   "cell_type": "code",
   "execution_count": 24,
   "metadata": {},
   "outputs": [
    {
     "data": {
      "text/plain": [
       "267"
      ]
     },
     "execution_count": 24,
     "metadata": {},
     "output_type": "execute_result"
    }
   ],
   "source": [
    "len(X_test)"
   ]
  },
  {
   "cell_type": "code",
   "execution_count": 25,
   "metadata": {},
   "outputs": [
    {
     "name": "stdout",
     "output_type": "stream",
     "text": [
      "              precision    recall  f1-score   support\n",
      "\n",
      "           0       0.87      0.86      0.86       166\n",
      "           1       0.77      0.78      0.78       101\n",
      "\n",
      "    accuracy                           0.83       267\n",
      "   macro avg       0.82      0.82      0.82       267\n",
      "weighted avg       0.83      0.83      0.83       267\n",
      "\n"
     ]
    }
   ],
   "source": [
    "#computing other performance measures from the confusion matrix\n",
    "print(classification_report(y_test,y_pred))"
   ]
  },
  {
   "cell_type": "code",
   "execution_count": 26,
   "metadata": {},
   "outputs": [
    {
     "data": {
      "text/plain": [
       "array([[-1.03971355, -0.03977658, -0.24280203, -0.04041655,  1.18654252,\n",
       "        -1.20304782,  0.34372217, -0.04575574, -0.31447173]])"
      ]
     },
     "execution_count": 26,
     "metadata": {},
     "output_type": "execute_result"
    }
   ],
   "source": [
    "LogReg.coef_"
   ]
  },
  {
   "cell_type": "code",
   "execution_count": 27,
   "metadata": {},
   "outputs": [
    {
     "data": {
      "text/plain": [
       "array([3.65983377])"
      ]
     },
     "execution_count": 27,
     "metadata": {},
     "output_type": "execute_result"
    }
   ],
   "source": [
    "LogReg.intercept_"
   ]
  },
  {
   "cell_type": "code",
   "execution_count": 28,
   "metadata": {},
   "outputs": [
    {
     "data": {
      "text/plain": [
       "Index(['Pclass', 'Age', 'SibSp', 'Parch', 'Gender_female', 'Gender_male',\n",
       "       'Embarked_C', 'Embarked_Q', 'Embarked_S'],\n",
       "      dtype='object')"
      ]
     },
     "execution_count": 28,
     "metadata": {},
     "output_type": "execute_result"
    }
   ],
   "source": [
    "#we can further check our algorithms predicted probabilities using the X_test\n",
    "\n",
    "df_train_dummied[used_features].columns"
   ]
  },
  {
   "cell_type": "code",
   "execution_count": 29,
   "metadata": {},
   "outputs": [
    {
     "data": {
      "text/plain": [
       "array([[0.26492599, 0.73507401],\n",
       "       [0.3957436 , 0.6042564 ],\n",
       "       [0.94715512, 0.05284488],\n",
       "       [0.26017587, 0.73982413],\n",
       "       [0.94419882, 0.05580118],\n",
       "       [0.13502872, 0.86497128],\n",
       "       [0.33252531, 0.66747469],\n",
       "       [0.51919548, 0.48080452],\n",
       "       [0.78211816, 0.21788184],\n",
       "       [0.40647114, 0.59352886],\n",
       "       [0.73987799, 0.26012201],\n",
       "       [0.21172431, 0.78827569],\n",
       "       [0.74850102, 0.25149898],\n",
       "       [0.14587213, 0.85412787],\n",
       "       [0.86435134, 0.13564866],\n",
       "       [0.36872762, 0.63127238],\n",
       "       [0.89363937, 0.10636063],\n",
       "       [0.29704393, 0.70295607],\n",
       "       [0.17607946, 0.82392054],\n",
       "       [0.40029205, 0.59970795],\n",
       "       [0.90462266, 0.09537734],\n",
       "       [0.55333851, 0.44666149],\n",
       "       [0.86418945, 0.13581055],\n",
       "       [0.93756804, 0.06243196],\n",
       "       [0.51722517, 0.48277483],\n",
       "       [0.51473809, 0.48526191],\n",
       "       [0.03932608, 0.96067392],\n",
       "       [0.86894784, 0.13105216],\n",
       "       [0.8979147 , 0.1020853 ],\n",
       "       [0.3258881 , 0.6741119 ],\n",
       "       [0.38743047, 0.61256953],\n",
       "       [0.40887588, 0.59112412],\n",
       "       [0.15489381, 0.84510619],\n",
       "       [0.41546381, 0.58453619],\n",
       "       [0.59124939, 0.40875061],\n",
       "       [0.16559562, 0.83440438],\n",
       "       [0.65739599, 0.34260401],\n",
       "       [0.87341141, 0.12658859],\n",
       "       [0.24322706, 0.75677294],\n",
       "       [0.57645253, 0.42354747],\n",
       "       [0.43586446, 0.56413554],\n",
       "       [0.91115745, 0.08884255],\n",
       "       [0.31740131, 0.68259869],\n",
       "       [0.87341141, 0.12658859],\n",
       "       [0.79633559, 0.20366441],\n",
       "       [0.23511927, 0.76488073],\n",
       "       [0.170383  , 0.829617  ],\n",
       "       [0.81583791, 0.18416209],\n",
       "       [0.06085728, 0.93914272],\n",
       "       [0.9233201 , 0.0766799 ],\n",
       "       [0.87341141, 0.12658859],\n",
       "       [0.42823371, 0.57176629],\n",
       "       [0.88472413, 0.11527587],\n",
       "       [0.09121463, 0.90878537],\n",
       "       [0.74850102, 0.25149898],\n",
       "       [0.07065378, 0.92934622],\n",
       "       [0.77725484, 0.22274516],\n",
       "       [0.95133924, 0.04866076],\n",
       "       [0.7009811 , 0.2990189 ],\n",
       "       [0.93704357, 0.06295643],\n",
       "       [0.81500671, 0.18499329],\n",
       "       [0.85961966, 0.14038034],\n",
       "       [0.59124939, 0.40875061],\n",
       "       [0.87341141, 0.12658859],\n",
       "       [0.42823371, 0.57176629],\n",
       "       [0.23598044, 0.76401956],\n",
       "       [0.87341141, 0.12658859],\n",
       "       [0.9112691 , 0.0887309 ],\n",
       "       [0.84457953, 0.15542047],\n",
       "       [0.05441696, 0.94558304],\n",
       "       [0.86384136, 0.13615864],\n",
       "       [0.05650035, 0.94349965],\n",
       "       [0.65209691, 0.34790309],\n",
       "       [0.85961966, 0.14038034],\n",
       "       [0.31391889, 0.68608111],\n",
       "       [0.13502872, 0.86497128],\n",
       "       [0.84060658, 0.15939342],\n",
       "       [0.92361288, 0.07638712],\n",
       "       [0.82584897, 0.17415103],\n",
       "       [0.83309586, 0.16690414],\n",
       "       [0.84060658, 0.15939342],\n",
       "       [0.86435134, 0.13564866],\n",
       "       [0.03932608, 0.96067392],\n",
       "       [0.06016352, 0.93983648],\n",
       "       [0.76317877, 0.23682123],\n",
       "       [0.61974415, 0.38025585],\n",
       "       [0.43998129, 0.56001871],\n",
       "       [0.42839041, 0.57160959],\n",
       "       [0.87341141, 0.12658859],\n",
       "       [0.36872762, 0.63127238],\n",
       "       [0.89753435, 0.10246565],\n",
       "       [0.3258881 , 0.6741119 ],\n",
       "       [0.93410863, 0.06589137],\n",
       "       [0.78130207, 0.21869793],\n",
       "       [0.24669453, 0.75330547],\n",
       "       [0.83911369, 0.16088631],\n",
       "       [0.22901507, 0.77098493],\n",
       "       [0.27451809, 0.72548191],\n",
       "       [0.24669453, 0.75330547],\n",
       "       [0.21434065, 0.78565935],\n",
       "       [0.84974231, 0.15025769],\n",
       "       [0.34155574, 0.65844426],\n",
       "       [0.6064561 , 0.3935439 ],\n",
       "       [0.85475066, 0.14524934],\n",
       "       [0.85475066, 0.14524934],\n",
       "       [0.90609727, 0.09390273],\n",
       "       [0.13665635, 0.86334365],\n",
       "       [0.84974231, 0.15025769],\n",
       "       [0.76740523, 0.23259477],\n",
       "       [0.81583791, 0.18416209],\n",
       "       [0.639261  , 0.360739  ],\n",
       "       [0.74850102, 0.25149898],\n",
       "       [0.78130207, 0.21869793],\n",
       "       [0.18628853, 0.81371147],\n",
       "       [0.35934785, 0.64065215],\n",
       "       [0.08629004, 0.91370996],\n",
       "       [0.91581957, 0.08418043],\n",
       "       [0.40647114, 0.59352886],\n",
       "       [0.06424489, 0.93575511],\n",
       "       [0.79072368, 0.20927632],\n",
       "       [0.87774433, 0.12225567],\n",
       "       [0.20651619, 0.79348381],\n",
       "       [0.3258881 , 0.6741119 ],\n",
       "       [0.50278584, 0.49721416],\n",
       "       [0.20759669, 0.79240331],\n",
       "       [0.89191558, 0.10808442],\n",
       "       [0.44352304, 0.55647696],\n",
       "       [0.90982059, 0.09017941],\n",
       "       [0.88194899, 0.11805101],\n",
       "       [0.57705528, 0.42294472],\n",
       "       [0.44637602, 0.55362398],\n",
       "       [0.6064561 , 0.3935439 ],\n",
       "       [0.8783934 , 0.1216066 ],\n",
       "       [0.59124939, 0.40875061],\n",
       "       [0.36872762, 0.63127238],\n",
       "       [0.07088411, 0.92911589],\n",
       "       [0.85961966, 0.14038034],\n",
       "       [0.92608929, 0.07391071],\n",
       "       [0.87341141, 0.12658859],\n",
       "       [0.88998331, 0.11001669],\n",
       "       [0.8589519 , 0.1410481 ],\n",
       "       [0.31481178, 0.68518822],\n",
       "       [0.9233201 , 0.0766799 ],\n",
       "       [0.38841408, 0.61158592],\n",
       "       [0.59124939, 0.40875061],\n",
       "       [0.69305904, 0.30694096],\n",
       "       [0.1801835 , 0.8198165 ],\n",
       "       [0.10705909, 0.89294091],\n",
       "       [0.07885549, 0.92114451],\n",
       "       [0.92971973, 0.07028027],\n",
       "       [0.85806228, 0.14193772],\n",
       "       [0.93626826, 0.06373174],\n",
       "       [0.14259502, 0.85740498],\n",
       "       [0.84974231, 0.15025769],\n",
       "       [0.380378  , 0.619622  ],\n",
       "       [0.36872762, 0.63127238],\n",
       "       [0.78980834, 0.21019166],\n",
       "       [0.37192403, 0.62807597],\n",
       "       [0.88998331, 0.11001669],\n",
       "       [0.87341141, 0.12658859],\n",
       "       [0.50278584, 0.49721416],\n",
       "       [0.77029246, 0.22970754],\n",
       "       [0.57705528, 0.42294472],\n",
       "       [0.87051842, 0.12948158],\n",
       "       [0.87279955, 0.12720045],\n",
       "       [0.83386235, 0.16613765],\n",
       "       [0.13714583, 0.86285417],\n",
       "       [0.05962495, 0.94037505],\n",
       "       [0.77868595, 0.22131405],\n",
       "       [0.23609585, 0.76390415],\n",
       "       [0.84974231, 0.15025769],\n",
       "       [0.89916436, 0.10083564],\n",
       "       [0.84060658, 0.15939342],\n",
       "       [0.87341141, 0.12658859],\n",
       "       [0.68052268, 0.31947732],\n",
       "       [0.29199595, 0.70800405],\n",
       "       [0.86435134, 0.13564866],\n",
       "       [0.70925133, 0.29074867],\n",
       "       [0.87341141, 0.12658859],\n",
       "       [0.84974231, 0.15025769],\n",
       "       [0.84060658, 0.15939342],\n",
       "       [0.87341141, 0.12658859],\n",
       "       [0.65182706, 0.34817294],\n",
       "       [0.93244552, 0.06755448],\n",
       "       [0.3258881 , 0.6741119 ],\n",
       "       [0.82708729, 0.17291271],\n",
       "       [0.38129859, 0.61870141],\n",
       "       [0.5816027 , 0.4183973 ],\n",
       "       [0.22779859, 0.77220141],\n",
       "       [0.90462266, 0.09537734],\n",
       "       [0.75565988, 0.24434012],\n",
       "       [0.71710517, 0.28289483],\n",
       "       [0.86435134, 0.13564866],\n",
       "       [0.76392667, 0.23607333],\n",
       "       [0.93655304, 0.06344696],\n",
       "       [0.74745998, 0.25254002],\n",
       "       [0.89878814, 0.10121186],\n",
       "       [0.28937358, 0.71062642],\n",
       "       [0.59124939, 0.40875061],\n",
       "       [0.06564451, 0.93435549],\n",
       "       [0.70359096, 0.29640904],\n",
       "       [0.18274796, 0.81725204],\n",
       "       [0.77831993, 0.22168007],\n",
       "       [0.54829403, 0.45170597],\n",
       "       [0.04775577, 0.95224423],\n",
       "       [0.88998331, 0.11001669],\n",
       "       [0.87559405, 0.12440595],\n",
       "       [0.32224699, 0.67775301],\n",
       "       [0.81034677, 0.18965323],\n",
       "       [0.08797054, 0.91202946],\n",
       "       [0.84060658, 0.15939342],\n",
       "       [0.74093944, 0.25906056],\n",
       "       [0.78130207, 0.21869793],\n",
       "       [0.76740523, 0.23259477],\n",
       "       [0.30959484, 0.69040516],\n",
       "       [0.19481425, 0.80518575],\n",
       "       [0.75591459, 0.24408541],\n",
       "       [0.19313764, 0.80686236],\n",
       "       [0.91443317, 0.08556683],\n",
       "       [0.6922837 , 0.3077163 ],\n",
       "       [0.87051842, 0.12948158],\n",
       "       [0.49724537, 0.50275463],\n",
       "       [0.67059464, 0.32940536],\n",
       "       [0.22111506, 0.77888494],\n",
       "       [0.24310928, 0.75689072],\n",
       "       [0.86435134, 0.13564866],\n",
       "       [0.57441431, 0.42558569],\n",
       "       [0.84060658, 0.15939342],\n",
       "       [0.78802258, 0.21197742],\n",
       "       [0.74862147, 0.25137853],\n",
       "       [0.38129859, 0.61870141],\n",
       "       [0.29452282, 0.70547718],\n",
       "       [0.46642786, 0.53357214],\n",
       "       [0.84060658, 0.15939342],\n",
       "       [0.89753435, 0.10246565],\n",
       "       [0.89038826, 0.10961174],\n",
       "       [0.87341141, 0.12658859],\n",
       "       [0.79866876, 0.20133124],\n",
       "       [0.35423587, 0.64576413],\n",
       "       [0.87774433, 0.12225567],\n",
       "       [0.29704393, 0.70295607],\n",
       "       [0.84060658, 0.15939342],\n",
       "       [0.84974231, 0.15025769],\n",
       "       [0.67150908, 0.32849092],\n",
       "       [0.5159326 , 0.4840674 ],\n",
       "       [0.09925965, 0.90074035],\n",
       "       [0.13337577, 0.86662423],\n",
       "       [0.79767602, 0.20232398],\n",
       "       [0.69140052, 0.30859948],\n",
       "       [0.87386872, 0.12613128],\n",
       "       [0.24145244, 0.75854756],\n",
       "       [0.3258881 , 0.6741119 ],\n",
       "       [0.39691177, 0.60308823],\n",
       "       [0.94088924, 0.05911076],\n",
       "       [0.10909577, 0.89090423],\n",
       "       [0.22591775, 0.77408225],\n",
       "       [0.88194899, 0.11805101],\n",
       "       [0.90462266, 0.09537734],\n",
       "       [0.03937447, 0.96062553],\n",
       "       [0.78130207, 0.21869793],\n",
       "       [0.20124843, 0.79875157],\n",
       "       [0.8744822 , 0.1255178 ],\n",
       "       [0.65754012, 0.34245988],\n",
       "       [0.87341141, 0.12658859],\n",
       "       [0.29452282, 0.70547718],\n",
       "       [0.84060658, 0.15939342],\n",
       "       [0.91170658, 0.08829342]])"
      ]
     },
     "execution_count": 29,
     "metadata": {},
     "output_type": "execute_result"
    }
   ],
   "source": [
    "LogReg.predict_proba(X_test)"
   ]
  },
  {
   "cell_type": "code",
   "execution_count": 30,
   "metadata": {},
   "outputs": [
    {
     "data": {
      "text/plain": [
       "(267, 2)"
      ]
     },
     "execution_count": 30,
     "metadata": {},
     "output_type": "execute_result"
    }
   ],
   "source": [
    "LogReg.predict_proba(X_test).shape"
   ]
  },
  {
   "cell_type": "code",
   "execution_count": null,
   "metadata": {},
   "outputs": [],
   "source": []
  }
 ],
 "metadata": {
  "kernelspec": {
   "display_name": "Python 3 (ipykernel)",
   "language": "python",
   "name": "python3"
  },
  "language_info": {
   "codemirror_mode": {
    "name": "ipython",
    "version": 3
   },
   "file_extension": ".py",
   "mimetype": "text/x-python",
   "name": "python",
   "nbconvert_exporter": "python",
   "pygments_lexer": "ipython3",
   "version": "3.8.8"
  }
 },
 "nbformat": 4,
 "nbformat_minor": 4
}
